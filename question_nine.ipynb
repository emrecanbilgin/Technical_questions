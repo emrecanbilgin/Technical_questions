{
 "cells": [
  {
   "cell_type": "markdown",
   "id": "75cc24e8",
   "metadata": {},
   "source": [
    "## Solution with String Methods"
   ]
  },
  {
   "cell_type": "code",
   "execution_count": 1,
   "id": "1108b4fa",
   "metadata": {},
   "outputs": [
    {
     "name": "stdout",
     "output_type": "stream",
     "text": [
      "['xcd32112.smart_meter.com', 'txH67.dia_meter.com', 'yT5495.smart_meter.com']\n"
     ]
    }
   ],
   "source": [
    "texts = [\n",
    "    '<url>https://xcd32112.smart_meter.com</url>',\n",
    "    '<url>https://txH67.dia_meter.com</url>',\n",
    "    '<url>https://yT5495.smart_meter.com</url>'\n",
    "]\n",
    "\n",
    "urls = []\n",
    "\n",
    "for text in texts:\n",
    "    start_index = text.find('<url>https://') + len('<url>https://')\n",
    "    end_index = text.find('<', start_index)\n",
    "    url = text[start_index:end_index]\n",
    "    urls.append(url)\n",
    "\n",
    "print(urls)\n"
   ]
  },
  {
   "cell_type": "markdown",
   "id": "8f27b4e3",
   "metadata": {},
   "source": [
    "## Solution with Regex"
   ]
  },
  {
   "cell_type": "code",
   "execution_count": 2,
   "id": "32086ba9",
   "metadata": {},
   "outputs": [
    {
     "name": "stdout",
     "output_type": "stream",
     "text": [
      "['xcd32112.smart_meter.com', 'txH67.dia_meter.com', 'yT5495.smart_meter.com']\n"
     ]
    }
   ],
   "source": [
    "import re\n",
    "\n",
    "texts = [\n",
    "    '<url>https://xcd32112.smart_meter.com</url>',\n",
    "    '<url>https://txH67.dia_meter.com</url>',\n",
    "    '<url>https://yT5495.smart_meter.com</url>'\n",
    "]\n",
    "\n",
    "urls = []\n",
    "\n",
    "pattern = r'<url>https://(.*?)<'\n",
    "\n",
    "for text in texts:\n",
    "    match = re.search(pattern, text)\n",
    "    if match:\n",
    "        url = match.group(1)\n",
    "        urls.append(url)\n",
    "\n",
    "print(urls)\n"
   ]
  },
  {
   "cell_type": "code",
   "execution_count": null,
   "id": "11d398a1",
   "metadata": {},
   "outputs": [],
   "source": []
  }
 ],
 "metadata": {
  "kernelspec": {
   "display_name": "Python 3 (ipykernel)",
   "language": "python",
   "name": "python3"
  },
  "language_info": {
   "codemirror_mode": {
    "name": "ipython",
    "version": 3
   },
   "file_extension": ".py",
   "mimetype": "text/x-python",
   "name": "python",
   "nbconvert_exporter": "python",
   "pygments_lexer": "ipython3",
   "version": "3.10.9"
  }
 },
 "nbformat": 4,
 "nbformat_minor": 5
}
