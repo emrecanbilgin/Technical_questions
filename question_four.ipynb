{
 "cells": [
  {
   "cell_type": "code",
   "execution_count": 1,
   "id": "aac7b780",
   "metadata": {},
   "outputs": [],
   "source": [
    "import numpy as np\n",
    "import pandas as pd\n",
    "import matplotlib.pyplot as plt"
   ]
  },
  {
   "cell_type": "code",
   "execution_count": 3,
   "id": "def075d1",
   "metadata": {},
   "outputs": [
    {
     "data": {
      "text/html": [
       "<div>\n",
       "<style scoped>\n",
       "    .dataframe tbody tr th:only-of-type {\n",
       "        vertical-align: middle;\n",
       "    }\n",
       "\n",
       "    .dataframe tbody tr th {\n",
       "        vertical-align: top;\n",
       "    }\n",
       "\n",
       "    .dataframe thead th {\n",
       "        text-align: right;\n",
       "    }\n",
       "</style>\n",
       "<table border=\"1\" class=\"dataframe\">\n",
       "  <thead>\n",
       "    <tr style=\"text-align: right;\">\n",
       "      <th></th>\n",
       "      <th>country</th>\n",
       "      <th>date</th>\n",
       "      <th>daily_vaccinations</th>\n",
       "      <th>vaccines</th>\n",
       "    </tr>\n",
       "  </thead>\n",
       "  <tbody>\n",
       "    <tr>\n",
       "      <th>0</th>\n",
       "      <td>Argentina</td>\n",
       "      <td>12/29/2020</td>\n",
       "      <td>NaN</td>\n",
       "      <td>Sputnik V</td>\n",
       "    </tr>\n",
       "    <tr>\n",
       "      <th>1</th>\n",
       "      <td>Argentina</td>\n",
       "      <td>12/30/2020</td>\n",
       "      <td>15656.0</td>\n",
       "      <td>Sputnik V</td>\n",
       "    </tr>\n",
       "    <tr>\n",
       "      <th>2</th>\n",
       "      <td>Argentina</td>\n",
       "      <td>12/31/2020</td>\n",
       "      <td>15656.0</td>\n",
       "      <td>Sputnik V</td>\n",
       "    </tr>\n",
       "    <tr>\n",
       "      <th>3</th>\n",
       "      <td>Argentina</td>\n",
       "      <td>1/1/2021</td>\n",
       "      <td>11070.0</td>\n",
       "      <td>Sputnik V</td>\n",
       "    </tr>\n",
       "    <tr>\n",
       "      <th>4</th>\n",
       "      <td>Argentina</td>\n",
       "      <td>1/2/2021</td>\n",
       "      <td>8776.0</td>\n",
       "      <td>Sputnik V</td>\n",
       "    </tr>\n",
       "  </tbody>\n",
       "</table>\n",
       "</div>"
      ],
      "text/plain": [
       "     country        date  daily_vaccinations   vaccines\n",
       "0  Argentina  12/29/2020                 NaN  Sputnik V\n",
       "1  Argentina  12/30/2020             15656.0  Sputnik V\n",
       "2  Argentina  12/31/2020             15656.0  Sputnik V\n",
       "3  Argentina    1/1/2021             11070.0  Sputnik V\n",
       "4  Argentina    1/2/2021              8776.0  Sputnik V"
      ]
     },
     "execution_count": 3,
     "metadata": {},
     "output_type": "execute_result"
    }
   ],
   "source": [
    "df = pd.read_csv(\"country_vaccination_stats.csv\")\n",
    "df.head()"
   ]
  },
  {
   "cell_type": "code",
   "execution_count": 8,
   "id": "5eb2b1ad",
   "metadata": {},
   "outputs": [
    {
     "data": {
      "text/plain": [
       "60"
      ]
     },
     "execution_count": 8,
     "metadata": {},
     "output_type": "execute_result"
    }
   ],
   "source": [
    "df[\"daily_vaccinations\"].isna().sum() # We have 60 NaN value but dont know which country has it"
   ]
  },
  {
   "cell_type": "markdown",
   "id": "47c6b08d",
   "metadata": {},
   "source": [
    "### Before we start analyzing NaN values, lets find out minimum vaccinations value of each country"
   ]
  },
  {
   "cell_type": "code",
   "execution_count": 12,
   "id": "2c0d77f9",
   "metadata": {},
   "outputs": [
    {
     "data": {
      "text/plain": [
       "country\n",
       "Argentina                 6483.0\n",
       "Austria                   3368.0\n",
       "Bahrain                    943.0\n",
       "Belgium                      1.0\n",
       "Brazil                     112.0\n",
       "Bulgaria                   472.0\n",
       "Canada                     866.0\n",
       "Chile                       51.0\n",
       "China                   187500.0\n",
       "Costa Rica                 240.0\n",
       "Croatia                    989.0\n",
       "Cyprus                     534.0\n",
       "Czechia                   1822.0\n",
       "Denmark                   1994.0\n",
       "Ecuador                    108.0\n",
       "England                  37625.0\n",
       "Estonia                    309.0\n",
       "Finland                    459.0\n",
       "France                    5000.0\n",
       "Germany                  19721.0\n",
       "Gibraltar                  520.0\n",
       "Greece                     549.0\n",
       "Hungary                   1339.0\n",
       "Iceland                     63.0\n",
       "India                   112150.0\n",
       "Indonesia                11823.0\n",
       "Ireland                    550.0\n",
       "Isle of Man                 90.0\n",
       "Israel                    6887.0\n",
       "Italy                      926.0\n",
       "Kuwait                       NaN\n",
       "Latvia                     338.0\n",
       "Lithuania                  311.0\n",
       "Luxembourg                  62.0\n",
       "Malta                      259.0\n",
       "Mexico                    1300.0\n",
       "Netherlands               4000.0\n",
       "Northern Ireland          1563.0\n",
       "Norway                     224.0\n",
       "Oman                       817.0\n",
       "Panama                       6.0\n",
       "Poland                    4300.0\n",
       "Portugal                  2791.0\n",
       "Romania                    712.0\n",
       "Russia                    3357.0\n",
       "Saudi Arabia             14153.0\n",
       "Scotland                  3047.0\n",
       "Serbia                    1150.0\n",
       "Seychelles                 500.0\n",
       "Singapore                 2800.0\n",
       "Slovakia                   425.0\n",
       "Slovenia                  1270.0\n",
       "Spain                    41496.0\n",
       "Sweden                    3859.0\n",
       "Switzerland               3000.0\n",
       "Turkey                   67192.0\n",
       "United Arab Emirates     30698.0\n",
       "United Kingdom           46423.0\n",
       "United States            57909.0\n",
       "Wales                     1763.0\n",
       "Name: daily_vaccinations, dtype: float64"
      ]
     },
     "execution_count": 12,
     "metadata": {},
     "output_type": "execute_result"
    }
   ],
   "source": [
    "country_min_vaccinations = df.groupby(\"country\")[\"daily_vaccinations\"].min() \n",
    "country_min_vaccinations"
   ]
  },
  {
   "cell_type": "code",
   "execution_count": 13,
   "id": "879f4929",
   "metadata": {},
   "outputs": [
    {
     "data": {
      "text/plain": [
       "60"
      ]
     },
     "execution_count": 13,
     "metadata": {},
     "output_type": "execute_result"
    }
   ],
   "source": [
    "len(country_min_vaccinations)"
   ]
  },
  {
   "cell_type": "code",
   "execution_count": 14,
   "id": "f852911f",
   "metadata": {},
   "outputs": [
    {
     "data": {
      "text/plain": [
       "1"
      ]
     },
     "execution_count": 14,
     "metadata": {},
     "output_type": "execute_result"
    }
   ],
   "source": [
    "country_min_vaccinations.isna().sum()"
   ]
  },
  {
   "cell_type": "markdown",
   "id": "c5106533",
   "metadata": {},
   "source": [
    "**With that we learned we have 60 country and only one of them has have all NaN values which is Kuwait**<br>\n",
    "**We will fill Kuwait's values with zeros**"
   ]
  },
  {
   "cell_type": "code",
   "execution_count": 20,
   "id": "ef9eaf17",
   "metadata": {},
   "outputs": [
    {
     "name": "stdout",
     "output_type": "stream",
     "text": [
      "    country        date  daily_vaccinations         vaccines\n",
      "750  Kuwait  12/28/2020                 0.0  Pfizer/BioNTech\n"
     ]
    }
   ],
   "source": [
    "df.loc[df['country'] == 'Kuwait', 'daily_vaccinations'] = df.loc[df['country'] == 'Kuwait', 'daily_vaccinations'].fillna(0)\n",
    "print(df[df['country'] == 'Kuwait'])"
   ]
  },
  {
   "cell_type": "markdown",
   "id": "c76f1320",
   "metadata": {},
   "source": [
    "**We filled Kuwait's values with zeros, now we need to fill other countryies value's with their minimum vaccinations values.**<br>\n",
    "**We must also be careful not to change the value of Kuwait.**"
   ]
  },
  {
   "cell_type": "code",
   "execution_count": 21,
   "id": "21aec065",
   "metadata": {},
   "outputs": [],
   "source": [
    "for country, min_vacc in country_min_vaccinations.items():\n",
    "    if pd.isna(min_vacc): \n",
    "        df.loc[df['country'] == country, 'daily_vaccinations'] = df.loc[df['country'] == country, 'daily_vaccinations'].fillna(0)\n",
    "    else:\n",
    "        df.loc[df['country'] == country, 'daily_vaccinations'] = df.loc[df['country'] == country, 'daily_vaccinations'].fillna(min_vacc)\n"
   ]
  },
  {
   "cell_type": "code",
   "execution_count": 33,
   "id": "d16e4a77",
   "metadata": {},
   "outputs": [
    {
     "data": {
      "text/plain": [
       "country               0\n",
       "date                  0\n",
       "daily_vaccinations    0\n",
       "vaccines              0\n",
       "dtype: int64"
      ]
     },
     "execution_count": 33,
     "metadata": {},
     "output_type": "execute_result"
    }
   ],
   "source": [
    "df.isna().sum()\n"
   ]
  },
  {
   "cell_type": "markdown",
   "id": "3891f8b4",
   "metadata": {},
   "source": [
    "**Lets check our procees**"
   ]
  },
  {
   "cell_type": "code",
   "execution_count": 36,
   "id": "1658a76f",
   "metadata": {},
   "outputs": [
    {
     "name": "stdout",
     "output_type": "stream",
     "text": [
      "Turkey's daily vaccinations values:\n",
      "1352     67192.0\n",
      "1353    279452.0\n",
      "1354    308326.0\n",
      "1355    225634.0\n",
      "1356    176613.0\n",
      "1357    166482.0\n",
      "1358    158439.0\n",
      "1359    150356.0\n",
      "1360    120115.0\n",
      "1361     83651.0\n",
      "1362     78569.0\n",
      "1363     76886.0\n",
      "1364     67192.0\n",
      "Name: daily_vaccinations, dtype: float64\n",
      "\n",
      " Do we have ant NaN value ? : False\n",
      "\n",
      " All NaN Values filled with the minimum values of Turkey, procees succed\n"
     ]
    }
   ],
   "source": [
    "turkey_vaccinations = df[df['country'] == 'Turkey']['daily_vaccinations']\n",
    "print(\"Turkey's daily vaccinations values:\")\n",
    "print(france_vaccinations)\n",
    "\n",
    "is_nan_present = turkey_vaccinations.isna().any()\n",
    "print(\"\\n Do we have ant NaN value ? :\", is_nan_present)\n",
    "\n",
    "if is_nan_present:\n",
    "    print(\"\\n There are some NaN values, try again\")\n",
    "else:\n",
    "    print(\"\\n All NaN Values filled with the minimum values of Turkey, procees succed\")"
   ]
  },
  {
   "cell_type": "markdown",
   "id": "5aea2791",
   "metadata": {},
   "source": [
    "**I can see the value 67192 in 2 places, one of these values existed and we added the other.**"
   ]
  },
  {
   "cell_type": "code",
   "execution_count": null,
   "id": "8d948e16",
   "metadata": {},
   "outputs": [],
   "source": []
  }
 ],
 "metadata": {
  "kernelspec": {
   "display_name": "Python 3 (ipykernel)",
   "language": "python",
   "name": "python3"
  },
  "language_info": {
   "codemirror_mode": {
    "name": "ipython",
    "version": 3
   },
   "file_extension": ".py",
   "mimetype": "text/x-python",
   "name": "python",
   "nbconvert_exporter": "python",
   "pygments_lexer": "ipython3",
   "version": "3.10.9"
  }
 },
 "nbformat": 4,
 "nbformat_minor": 5
}
